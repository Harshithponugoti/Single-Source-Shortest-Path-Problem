{
 "cells": [
  {
   "cell_type": "code",
   "execution_count": 91,
   "id": "1ad223e8",
   "metadata": {},
   "outputs": [],
   "source": [
    "from gurobipy import *\n",
    "import numpy as np"
   ]
  },
  {
   "cell_type": "code",
   "execution_count": 139,
   "id": "3415bd66",
   "metadata": {},
   "outputs": [
    {
     "name": "stdout",
     "output_type": "stream",
     "text": [
      "Enter the Source Node:3\n",
      "Gurobi Optimizer version 9.1.2 build v9.1.2rc0 (win64)\n",
      "Thread count: 2 physical cores, 4 logical processors, using up to 4 threads\n",
      "Optimize a model with 7 rows, 17 columns and 34 nonzeros\n",
      "Model fingerprint: 0x5996afff\n",
      "Coefficient statistics:\n",
      "  Matrix range     [1e+00, 1e+00]\n",
      "  Objective range  [4e+00, 3e+01]\n",
      "  Bounds range     [0e+00, 0e+00]\n",
      "  RHS range        [1e+00, 6e+00]\n",
      "Presolve time: 0.01s\n",
      "Presolved: 7 rows, 17 columns, 34 nonzeros\n",
      "\n",
      "Iteration    Objective       Primal Inf.    Dual Inf.      Time\n",
      "       0    0.0000000e+00   1.200000e+01   0.000000e+00      0s\n",
      "       6    6.2000000e+01   0.000000e+00   0.000000e+00      0s\n",
      "\n",
      "Solved in 6 iterations and 0.02 seconds\n",
      "Optimal objective  6.200000000e+01\n",
      "The final solution is:\n",
      "[(3, ' '), (4, 2), (5, 2), (1, 3), (2, 3), (6, 3), (7, 5)]\n",
      "[[3, ' '], [4, 2], [5, 2], [1, 3], [2, 3], [6, 3], [7, 5]]\n"
     ]
    }
   ],
   "source": [
    "\"\"\"\n",
    "Created on Sep 12 2021 at 15:21 PM\n",
    "\n",
    "By\n",
    "Harshith Rao Ponugoti @hponugo\n",
    "Arvind Rao Kotha @arkotha\n",
    "\"\"\"\n",
    "\n",
    "\n",
    "file = open(\"sample (1).gr\",\"r\")\n",
    "lines = file.readlines()[8:]\n",
    "h=lines[0].strip().split(\" \")\n",
    "Nodes=int(h[2])\n",
    "data=lines[1:]\n",
    "d=[]\n",
    "for i in data:\n",
    "    i=i.strip().split(\" \")\n",
    "    d.append(i)\n",
    "origin=int(input(\"Enter the Source Node:\"))\n",
    "destination=7\n",
    "links=tuplelist()\n",
    "cost={}\n",
    "for a in d:\n",
    "    fn = int(a[1])\n",
    "    tn = int(a[2])\n",
    "    ct = float(a[3])\n",
    "    links.append((fn,tn))\n",
    "    cost[fn,tn] = ct\n",
    "file.close()\n",
    "m = Model('SP')\n",
    "x = m.addVars(links, obj=cost, name =\"flow\")\n",
    "\n",
    "for i in range(1, 8):\n",
    "    m.addConstr( sum(x[i,j] for i,j in links.select(i, '*')) - sum(x[j,i] for j,i in links.select('*',i)) == \n",
    "                     (Nodes-1 if i==origin else -1 ),'node%s_' % i )\n",
    "\n",
    "m.optimize()\n",
    "\n",
    "output=[(origin,\" \")]\n",
    "if m.status == GRB.Status.OPTIMAL:\n",
    "   print('The final solution is:')\n",
    "   for i,j in links:\n",
    "       if(x[i,j].x > 0):\n",
    "           output.append((j,i))\n",
    "print(output)\n",
    "output = [list(ele) for ele in output]\n",
    "print(output)"
   ]
  },
  {
   "cell_type": "code",
   "execution_count": 141,
   "id": "c6172ef2",
   "metadata": {},
   "outputs": [],
   "source": [
    "import pandas as pd\n",
    "df = pd.DataFrame(list())\n",
    "df.to_csv('output.csv')"
   ]
  },
  {
   "cell_type": "code",
   "execution_count": 142,
   "id": "be3226cc",
   "metadata": {},
   "outputs": [],
   "source": [
    "#print(output.csv)\n",
    "import csv\n",
    "with open(\"output.csv\",'w',newline='') as o:\n",
    "    out=csv.writer(o)\n",
    "    out.writerow([\"Node\",\"PredecessorID\"])\n",
    "    out.writerows(output)   "
   ]
  },
  {
   "cell_type": "code",
   "execution_count": null,
   "id": "391018a6",
   "metadata": {},
   "outputs": [],
   "source": []
  }
 ],
 "metadata": {
  "kernelspec": {
   "display_name": "Python 3",
   "language": "python",
   "name": "python3"
  },
  "language_info": {
   "codemirror_mode": {
    "name": "ipython",
    "version": 3
   },
   "file_extension": ".py",
   "mimetype": "text/x-python",
   "name": "python",
   "nbconvert_exporter": "python",
   "pygments_lexer": "ipython3",
   "version": "3.8.8"
  }
 },
 "nbformat": 4,
 "nbformat_minor": 5
}
